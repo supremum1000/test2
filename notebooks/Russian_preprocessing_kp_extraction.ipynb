{
 "cells": [
  {
   "cell_type": "markdown",
   "metadata": {},
   "source": [
    "# Предобработка текстов на русском языке. Извлечение ключевых слов и словосочетаний\n",
    "\n",
    "## Предобработка текстов на русском языке\n",
    "Для начала рассматриваем некоторое количество новостных сообщений, опубликованных в январе-феврале 2016 года, которые находятся в файле 'texts.json'. Мы считаем, что принципиальных различий между текстами нет, поэтому склеиваем их в один большой текст. "
   ]
  },
  {
   "cell_type": "code",
   "execution_count": 3,
   "metadata": {
    "collapsed": false
   },
   "outputs": [
    {
     "name": "stdout",
     "output_type": "stream",
     "text": [
      "N of texts 221\n"
     ]
    }
   ],
   "source": [
    "%matplotlib inline\n",
    "import json\n",
    "\n",
    "infile = '../data/texts.json'\n",
    "\n",
    "\n",
    "with open(infile) as data_file:    \n",
    "    data = json.load(data_file)\n",
    "collection = []\n",
    "for i in data['data']:\n",
    "    collection.append(i['text'])\n",
    "print 'N of texts', len(collection)\n",
    "merged_text = ' '.join(collection)"
   ]
  },
  {
   "cell_type": "markdown",
   "metadata": {},
   "source": [
    "Используем самый простой токенизатор из NLTK, который разбивает тексты на токены по пробелам. Удаляем символы пунктуаци, цифры и несколько разных видов тире. Приводим текст к нижнему регистру – на этом стандартная и минимальная обработка текста заканчивается."
   ]
  },
  {
   "cell_type": "code",
   "execution_count": 21,
   "metadata": {
    "collapsed": false
   },
   "outputs": [
    {
     "name": "stdout",
     "output_type": "stream",
     "text": [
      "как\n",
      "вам\n",
      "удалось\n",
      "дать\n",
      "настолько\n",
      "точный\n",
      "прогноз\n",
      "у\n",
      "меня\n",
      "же\n"
     ]
    }
   ],
   "source": [
    "import nltk\n",
    "from nltk.tokenize import WhitespaceTokenizer\n",
    "from string import punctuation\n",
    "exclude = set(punctuation + '0123456789'+u'–—'+u'«»')\n",
    "merged_text = ''.join(ch for ch in merged_text if ch not in exclude)\n",
    "tokens = WhitespaceTokenizer().tokenize(merged_text.lower())\n",
    "for i in tokens[:10]: print i"
   ]
  },
  {
   "cell_type": "code",
   "execution_count": 4,
   "metadata": {
    "collapsed": false
   },
   "outputs": [
    {
     "name": "stdout",
     "output_type": "stream",
     "text": [
      "!\"#$%&'()*+,-./:;<=>?@[\\]^_`{|}~\n"
     ]
    }
   ],
   "source": [
    "print punctuation"
   ]
  },
  {
   "cell_type": "markdown",
   "metadata": {},
   "source": [
    "Токен – словоупотребление (слово + его место в тексте), тип – словоформа. Чтобы посчитать количество типов в тексте используем частотные словари NLTK."
   ]
  },
  {
   "cell_type": "code",
   "execution_count": 5,
   "metadata": {
    "collapsed": false
   },
   "outputs": [
    {
     "name": "stdout",
     "output_type": "stream",
     "text": [
      "N of tokens:  148112\n",
      "N of types: 28570\n",
      "<FreqDist with 28570 samples and 148112 outcomes>\n"
     ]
    }
   ],
   "source": [
    "print 'N of tokens: ', len(tokens)\n",
    "types = nltk.FreqDist(tokens)\n",
    "print 'N of types:', len(types)\n",
    "print types"
   ]
  },
  {
   "cell_type": "code",
   "execution_count": 48,
   "metadata": {
    "collapsed": false
   },
   "outputs": [
    {
     "name": "stdout",
     "output_type": "stream",
     "text": [
      "в 6100\n",
      "и 3732\n",
      "на 3342\n",
      "не 2026\n",
      "что 1686\n",
      "по 1676\n",
      "с 1505\n",
      "за 963\n",
      "это 781\n",
      "года 777\n",
      "к 743\n",
      "а 729\n",
      "для 707\n",
      "как 625\n",
      "от 598\n",
      "до 593\n",
      "но 585\n",
      "о 545\n",
      "из 541\n",
      "году 531\n"
     ]
    }
   ],
   "source": [
    "for i in types.most_common(20):\n",
    "     print i[0], i[1]"
   ]
  },
  {
   "cell_type": "markdown",
   "metadata": {},
   "source": [
    "Построим кривую Ципфа для текста и убедимся, что она выглядит правильно."
   ]
  },
  {
   "cell_type": "code",
   "execution_count": 5,
   "metadata": {
    "collapsed": false
   },
   "outputs": [
    {
     "data": {
      "image/png": "[encoded data removed]",
      "text/plain": [
       "<matplotlib.figure.Figure at 0x108779c50>"
      ]
     },
     "metadata": {},
     "output_type": "display_data"
    }
   ],
   "source": [
    "import matplotlib.pyplot as plt\n",
    "fr = types.values()\n",
    "fr.sort(reverse=True)\n",
    "plt.plot(fr[:100])\n",
    "plt.ylabel('Type frequency')\n",
    "plt.xlabel('Type rank')\n",
    "plt.title(\"Zipf's law\")\n",
    "plt.show()"
   ]
  },
  {
   "cell_type": "markdown",
   "metadata": {},
   "source": [
    "Лемматризируем каждое слово с помощью PyMorphy2 и создаем частотный словарь лемм. "
   ]
  },
  {
   "cell_type": "code",
   "execution_count": 9,
   "metadata": {
    "collapsed": false
   },
   "outputs": [
    {
     "name": "stdout",
     "output_type": "stream",
     "text": [
      "N of lemmata: 14789\n",
      "в 6188\n",
      "и 3726\n",
      "на 3342\n",
      "не 2026\n",
      "год 1740\n",
      "что 1723\n",
      "по 1675\n",
      "с 1645\n",
      "это 1372\n",
      "быть 1359\n",
      "за 962\n",
      "рубль 929\n",
      "который 795\n",
      "к 750\n",
      "а 726\n",
      "тот 715\n",
      "для 706\n",
      "о 703\n",
      "он 683\n",
      "цена 635\n"
     ]
    }
   ],
   "source": [
    "import pymorphy2\n",
    "morph = pymorphy2.MorphAnalyzer()\n",
    "lemmata = nltk.FreqDist()\n",
    "for t in types:\n",
    "    try:\n",
    "        l = morph.parse(t)[0].normal_form\n",
    "        if l in lemmata:\n",
    "            lemmata[l] += types[t]\n",
    "        else:\n",
    "            lemmata[l] = types[t]\n",
    "    except IndexError:\n",
    "        if t in lemmata:\n",
    "            lemmata[t] += types[t]\n",
    "        else:\n",
    "            lemmata[t] = types[t]\n",
    "print 'N of lemmata:', len(lemmata)\n",
    "for i in lemmata.most_common(20):\n",
    "    print i[0], i[1]"
   ]
  },
  {
   "cell_type": "markdown",
   "metadata": {},
   "source": [
    "Но разве все слова нам нужны? Не нужны нам стоп-слова: предлоги, местоимения, союзы и кое-что еще. "
   ]
  },
  {
   "cell_type": "code",
   "execution_count": 12,
   "metadata": {
    "collapsed": false
   },
   "outputs": [
    {
     "name": "stdout",
     "output_type": "stream",
     "text": [
      "и в во не что он на я с со как а то все она так его но да ты к у же вы за бы по только ее мне было вот от меня еще нет о из ему теперь когда даже ну вдруг ли если уже или ни быть был него до вас нибудь опять уж вам ведь там потом себя ничего ей может они тут где есть надо ней для мы тебя их чем была сам чтоб без будто чего раз тоже себе под будет ж тогда кто этот того потому этого какой совсем ним здесь этом один почти мой тем чтобы нее сейчас были куда зачем всех никогда можно при наконец два об другой хоть после над больше тот через эти нас про всего них какая много разве три эту моя впрочем хорошо свою этой перед иногда лучше чуть том нельзя такой им более всегда конечно всю между\n"
     ]
    }
   ],
   "source": [
    "from nltk.corpus import stopwords\n",
    "for i in stopwords.words('russian'):\n",
    "    print i,\n",
    "mystopwords = stopwords.words('russian')+[u'это', u'иза', u'свой',u'млрд', u'млн',u'млна',u'тыс',u'трлн']"
   ]
  },
  {
   "cell_type": "markdown",
   "metadata": {},
   "source": [
    "Создаем список лемм без стоп слов и снова обновляем частотный словарь."
   ]
  },
  {
   "cell_type": "code",
   "execution_count": 8,
   "metadata": {
    "collapsed": false
   },
   "outputs": [
    {
     "name": "stdout",
     "output_type": "stream",
     "text": [
      "год 1742\n",
      "который 766\n",
      "рубль 758\n",
      "цена 636\n",
      "россия 520\n",
      "весь 500\n",
      "компания 463\n",
      "нефть 448\n",
      "рынок 442\n",
      "российский 426\n",
      "страна 425\n",
      "рост 325\n",
      "экономика 323\n",
      "говорить 307\n",
      "банка 278\n",
      "ещё 276\n",
      "также 267\n",
      "уровень 254\n",
      "данный 250\n",
      "мочь 247\n"
     ]
    }
   ],
   "source": [
    "lemmata_no_sw = nltk.FreqDist()\n",
    "for l in lemmata:\n",
    "    if not l in mystopwords:\n",
    "        lemmata_no_sw[l] = lemmata[l]\n",
    "for i in lemmata_no_sw.most_common(20):\n",
    "    print i[0], i[1]"
   ]
  },
  {
   "cell_type": "markdown",
   "metadata": {},
   "source": [
    "А теперь посмотрим только на существительные и подумаем о них как о *ключевых словах*."
   ]
  },
  {
   "cell_type": "code",
   "execution_count": 18,
   "metadata": {
    "collapsed": false
   },
   "outputs": [
    {
     "name": "stdout",
     "output_type": "stream",
     "text": [
      "N of nouns: 6365\n",
      "год 1742\n",
      "рубль 758\n",
      "цена 636\n",
      "россия 520\n",
      "компания 463\n",
      "нефть 448\n",
      "рынок 442\n",
      "страна 425\n",
      "рост 325\n",
      "экономика 323\n",
      "банка 278\n",
      "уровень 254\n",
      "доллар 242\n",
      "млна 224\n",
      "правительство 222\n",
      "слово 221\n",
      "бюджет 218\n",
      "курс 218\n",
      "цб 218\n",
      "эксперт 215\n"
     ]
    }
   ],
   "source": [
    "nouns = nltk.FreqDist()\n",
    "for t in types:\n",
    "    if not t in mystopwords:\n",
    "        try:\n",
    "            gram_info = morph.parse(t)[0]\n",
    "            if 'NOUN' in gram_info.tag:\n",
    "                l = gram_info.normal_form\n",
    "                if l in nouns:\n",
    "                    nouns[l] += types[t]\n",
    "                else:\n",
    "                    nouns[l] = types[t]\n",
    "        except IndexError:\n",
    "            pass\n",
    "print 'N of nouns:', len(nouns)\n",
    "for i in nouns.most_common(20):\n",
    "    print i[0], i[1]"
   ]
  },
  {
   "cell_type": "markdown",
   "metadata": {},
   "source": [
    "## Извлечение ключевых словосочетаний по шаблону\n",
    "\n",
    "Допустим, что ключевым может быть словосочетание, которое удовлетворяет хорошему грамматическому шаблону, например, СУЩ + СУЩ, ПРИЛ + СУЩ. Попробуем извлечь все такие пары слов из текста. Функция match() принимает на вход n-граму – последовательность из n слов и проверяет ее на соответствие каждому шаблону. "
   ]
  },
  {
   "cell_type": "code",
   "execution_count": 15,
   "metadata": {
    "collapsed": true
   },
   "outputs": [],
   "source": [
    "from itertools import product\n",
    "patterns = ['ADJF+NOUN','PRTS+NOUN','NOUN+NOUN']\n",
    "    \n",
    "def match(ngram, patterns = patterns):\n",
    "    index = []\n",
    "    for word in ngram:\n",
    "        if word in mystopwords:\n",
    "            return None\n",
    "        buf = [(p.normal_form, p.tag.POS) for p in morph.parse(word)]\n",
    "        index.append((word,buf)) \n",
    "    pos_tagging = product(*[ind[1] for ind in index])     \n",
    "    possible_patterns = map(lambda pos_tag: zip(*pos_tag), pos_tagging) \n",
    "    possible_patterns = map(lambda pattern: [pattern[0], map(lambda grammeme: grammeme, pattern[1])], possible_patterns)\n",
    "    possible_patterns = map(lambda pattern: (pattern[0], '+'.join(pattern[1])), possible_patterns)\n",
    "    for pattern in possible_patterns:\n",
    "       # print pattern\n",
    "        if pattern[1] in patterns:\n",
    "            return pattern\n",
    "\n",
    "    return None\n",
    "        "
   ]
  },
  {
   "cell_type": "markdown",
   "metadata": {},
   "source": [
    "Применяем функцию к тексту. Сразу виден существенный недостаток этой функции – словосочетания несогласованы."
   ]
  },
  {
   "cell_type": "code",
   "execution_count": 24,
   "metadata": {
    "collapsed": false
   },
   "outputs": [
    {
     "name": "stdout",
     "output_type": "stream",
     "text": [
      "прошлое год 141\n",
      "декабрь год 64\n",
      "саудовский аравия 60\n",
      "курс рубль 58\n",
      "январь год 53\n",
      "рост цена 47\n",
      "конец год 46\n",
      "нефтяной цена 46\n",
      "низкий цена 44\n",
      "первый очередь 44\n"
     ]
    }
   ],
   "source": [
    "pattern_coll2  = nltk.FreqDist() \n",
    "count = 0\n",
    "coll2 = nltk.FreqDist(nltk.bigrams(tokens))\n",
    "for c2 in coll2:\n",
    "    try:\n",
    "        p = match(c2)\n",
    "        if p != None:\n",
    "            collocation = ' '.join(p[0])\n",
    "            if collocation in pattern_coll2:\n",
    "                pattern_coll2[collocation] += coll2[c2]\n",
    "            else:\n",
    "                pattern_coll2[collocation] = coll2[c2]\n",
    "    except:\n",
    "        pass\n",
    "\n",
    "for c2 in pattern_coll2.most_common(10):\n",
    "    print c2[0], c2[1]"
   ]
  },
  {
   "cell_type": "markdown",
   "metadata": {},
   "source": [
    "Совсем несогласованы."
   ]
  },
  {
   "cell_type": "code",
   "execution_count": 19,
   "metadata": {
    "collapsed": false
   },
   "outputs": [
    {
     "name": "stdout",
     "output_type": "stream",
     "text": [
      "точный прогноз ADJF+NOUN\n",
      "весёлый музыка ADJF+NOUN\n"
     ]
    }
   ],
   "source": [
    "m = match([u'точный', u'прогноз'])\n",
    "print m[0][0], m[0][1], m[1]\n",
    "\n",
    "m = match([u'веселая', u'музыка'])\n",
    "print m[0][0], m[0][1], m[1]"
   ]
  },
  {
   "cell_type": "markdown",
   "metadata": {},
   "source": [
    "## Извлечение ключевых словосочетаний по статистическим мерам связности \n",
    "\n",
    "Используем реализацию из NLTK:\n",
    "* генерируем список биграм\n",
    "* удаляем биграмы, которые встречаются реже 3 раз\n",
    "* находим 20 биграм с максимальным значением статистического критерия\n",
    "\n",
    "Используем $t–score$."
   ]
  },
  {
   "cell_type": "code",
   "execution_count": 25,
   "metadata": {
    "collapsed": false
   },
   "outputs": [
    {
     "name": "stdout",
     "output_type": "stream",
     "text": [
      "в году\n",
      "на нефть\n",
      "при этом\n",
      "в том\n",
      "за баррель\n",
      "в россии\n",
      "цен на\n",
      "том что\n",
      "цены на\n",
      "то есть\n",
      "а также\n",
      "долл за\n",
      "том числе\n",
      "по итогам\n",
      "млрд рублей\n",
      "за счет\n",
      "по данным\n",
      "в этом\n",
      "прошлого года\n",
      "может быть\n"
     ]
    }
   ],
   "source": [
    "from nltk.collocations import *\n",
    "bigram_measures = nltk.collocations.BigramAssocMeasures()\n",
    "finder = BigramCollocationFinder.from_words(tokens)\n",
    "finder.apply_freq_filter(3)\n",
    "tscore_ranking = finder.nbest(bigram_measures.student_t, 20)\n",
    "for i in tscore_ranking: print ' '.join(i)"
   ]
  },
  {
   "cell_type": "markdown",
   "metadata": {},
   "source": [
    "Удалим стоп-слова и повторим все шаги заново. "
   ]
  },
  {
   "cell_type": "code",
   "execution_count": 35,
   "metadata": {
    "collapsed": false
   },
   "outputs": [
    {
     "name": "stdout",
     "output_type": "stream",
     "text": [
      "прошлого года\n",
      "прошлом году\n",
      "первую очередь\n",
      "января года\n",
      "итогам года\n",
      "таким образом\n",
      "нефтяных цен\n",
      "саудовской аравии\n",
      "см «нг»\n",
      "декабря года\n",
      "декабре года\n",
      "курс рубля\n",
      "речь идет\n",
      "курса рубля\n",
      "точки зрения\n",
      "владимир путин\n",
      "саудовская аравия\n",
      "ближайшее время\n",
      "экономического роста\n",
      "низких цен\n"
     ]
    }
   ],
   "source": [
    "finder.apply_word_filter(lambda w: w in mystopwords)\n",
    "tscore_ranking = finder.nbest(bigram_measures.student_t, 20)\n",
    "for i in tscore_ranking: print ' '.join(i)"
   ]
  },
  {
   "cell_type": "markdown",
   "metadata": {},
   "source": [
    "Используем  $PMI$."
   ]
  },
  {
   "cell_type": "code",
   "execution_count": 39,
   "metadata": {
    "collapsed": false
   },
   "outputs": [
    {
     "name": "stdout",
     "output_type": "stream",
     "text": [
      "liqui moly\n",
      "shanghai composite\n",
      "«эксон нл»\n",
      "исламского банкинга\n",
      "клаус шваб\n",
      "нижний новгород\n",
      "ньюйоркская конвенция\n",
      "парниковых газов\n",
      "температура кристаллизации\n",
      "товарных рынков»\n",
      "wall street\n",
      "«взлетная полоса»\n",
      "«экологический менеджмент»\n",
      "хасан рухани\n",
      "эммануэль ибе\n",
      "electric power\n",
      "iron ore\n",
      "new york\n",
      "«сахалин энерджи»\n",
      "«фридом финанс»\n"
     ]
    }
   ],
   "source": [
    "pmi_ranking =  finder.nbest(bigram_measures.pmi, 20)\n",
    "for i in pmi_ranking: print ' '.join(i)"
   ]
  },
  {
   "cell_type": "markdown",
   "metadata": {},
   "source": [
    "Используем $\\chi^2$."
   ]
  },
  {
   "cell_type": "code",
   "execution_count": 36,
   "metadata": {
    "collapsed": false
   },
   "outputs": [
    {
     "name": "stdout",
     "output_type": "stream",
     "text": [
      "electric power\n",
      "forex club\n",
      "goldman sachs\n",
      "iron ore\n",
      "liqui moly\n",
      "mfx broker\n",
      "new york\n",
      "qb finance\n",
      "shanghai composite\n",
      "«деловой фарватер»\n",
      "«сахалин энерджи»\n",
      "«фридом финанс»\n",
      "«эксон нл»\n",
      "«южного потока»\n",
      "генеральная прокуратура\n",
      "исламского банкинга\n",
      "квадратного метра\n",
      "клаус шваб\n",
      "кристин лагард\n",
      "ксения юдаева\n"
     ]
    }
   ],
   "source": [
    "chi2_ranking =  finder.nbest(bigram_measures.chi_sq, 20)\n",
    "for i in chi2_ranking: print ' '.join(i).encode('utf8')"
   ]
  },
  {
   "cell_type": "markdown",
   "metadata": {},
   "source": [
    "Используем $LogLikelihood Ratio$, $LLR$."
   ]
  },
  {
   "cell_type": "code",
   "execution_count": 37,
   "metadata": {
    "collapsed": false
   },
   "outputs": [
    {
     "name": "stdout",
     "output_type": "stream",
     "text": [
      "прошлого года\n",
      "первую очередь\n",
      "прошлом году\n",
      "саудовской аравии\n",
      "таким образом\n",
      "см «нг»\n",
      "саудовская аравия\n",
      "точки зрения\n",
      "речь идет\n",
      "риа новости\n",
      "нефтяных цен\n",
      "сих пор\n",
      "владимир путин\n",
      "января года\n",
      "итогам года\n",
      "«черного золота»\n",
      "ближайшее время\n",
      "любом случае\n",
      "алексей улюкаев\n",
      "нефтяных котировок\n"
     ]
    }
   ],
   "source": [
    "llr_ranking = finder.nbest(bigram_measures.likelihood_ratio, 20)\n",
    "for i in llr_ranking: print ' '.join(i)"
   ]
  },
  {
   "cell_type": "markdown",
   "metadata": {},
   "source": [
    "Сравнение полученных ранжировок можно выаолнить с помощью рангового коэффициента корреляции Спирмена.\n",
    "\n",
    "Определение (http://www.machinelearning.ru/)\n",
    "\n",
    "Заданы две выборки $x = (x_1,\\ldots,x_n)$, $y = (y_1,\\ldots,y_n)$.\n",
    "\n",
    "Вычисление корреляции Спирмена:\n",
    "\n",
    "Коэффициент корреляции Спирмена вычисляется по формуле:\n",
    "$\\rho=1-\\frac{6}{n(n-1)(n+1)}\\sum_{i=1}^n(R_i-S_i)^2$, где $R_i$ - ранг наблюдения $x_i$ в ряду $x$, $S_i$ - ранг наблюдения $y_i$ в ряду $y$."
   ]
  },
  {
   "cell_type": "code",
   "execution_count": 40,
   "metadata": {
    "collapsed": false
   },
   "outputs": [
    {
     "name": "stdout",
     "output_type": "stream",
     "text": [
      "0.0\n"
     ]
    }
   ],
   "source": [
    "from nltk.metrics.spearman import *\n",
    "pmi_ranks =  ranks_from_sequence(pmi_ranking)\n",
    "tscore_ranks = ranks_from_sequence(tscore_ranking)\n",
    "print spearman_correlation(pmi_ranks, tscore_ranks)"
   ]
  },
  {
   "cell_type": "code",
   "execution_count": 41,
   "metadata": {
    "collapsed": false
   },
   "outputs": [
    {
     "name": "stdout",
     "output_type": "stream",
     "text": [
      "0.0791208791209\n"
     ]
    }
   ],
   "source": [
    "llr_ranks =  ranks_from_sequence(llr_ranking)\n",
    "tscore_ranks = ranks_from_sequence(tscore_ranking)\n",
    "print spearman_correlation(llr_ranks, tscore_ranks)"
   ]
  },
  {
   "cell_type": "code",
   "execution_count": 23,
   "metadata": {
    "collapsed": false
   },
   "outputs": [
    {
     "name": "stdout",
     "output_type": "stream",
     "text": [
      "долл баррель\n",
      "прошлого года\n",
      "нефть баррель\n",
      "прошлом году\n",
      "итогам года\n",
      "рублей рублей\n",
      "цен нефть\n",
      "долл долл\n",
      "руб руб\n",
      "цены нефть\n",
      "году году\n",
      "курс рубля\n",
      "первую очередь\n",
      "января года\n",
      "нефтяных цен\n",
      "нефть долл\n",
      "баррель долл\n",
      "рубля рубля\n",
      "таким образом\n",
      "конце года\n"
     ]
    }
   ],
   "source": [
    "from nltk.collocations import *\n",
    "bigram_measures = nltk.collocations.BigramAssocMeasures()\n",
    "finder = BigramCollocationFinder.from_words(tokens, window_size = 20)\n",
    "finder.apply_freq_filter(2)\n",
    "\n",
    "finder.apply_word_filter(lambda w: len(w) < 3 or w.lower() in mystopwords)\n",
    "\n",
    "tscore_ranking = finder.nbest(bigram_measures.student_t, 20)\n",
    "\n",
    "for i in tscore_ranking: print ' '.join(i)\n",
    "\n"
   ]
  },
  {
   "cell_type": "markdown",
   "metadata": {},
   "source": [
    "# Стемминг"
   ]
  },
  {
   "cell_type": "code",
   "execution_count": 45,
   "metadata": {
    "collapsed": false
   },
   "outputs": [
    {
     "name": "stdout",
     "output_type": "stream",
     "text": [
      "оптимизац\n"
     ]
    }
   ],
   "source": [
    "from nltk.stem.snowball import RussianStemmer\n",
    "stemmer = RussianStemmer()\n",
    "print stemmer.stem(u'оптимизация')"
   ]
  },
  {
   "cell_type": "markdown",
   "metadata": {},
   "source": [
    "Частотный словарь стемов (псевдооснов):"
   ]
  },
  {
   "cell_type": "code",
   "execution_count": 50,
   "metadata": {
    "collapsed": false
   },
   "outputs": [
    {
     "name": "stdout",
     "output_type": "stream",
     "text": [
      "год 1602\n",
      "котор 795\n",
      "рубл 759\n",
      "цен 646\n",
      "росс 522\n",
      "банк 478\n",
      "компан 464\n",
      "нефт 448\n",
      "стран 433\n",
      "российск 426\n",
      "говор 404\n",
      "так 353\n",
      "рост 325\n",
      "экономик 324\n",
      "рынк 323\n",
      "нов 295\n",
      "такж 267\n",
      "дан 261\n",
      "сам 260\n",
      "сво 247\n"
     ]
    }
   ],
   "source": [
    "stems = nltk.FreqDist()\n",
    "for t in types:\n",
    "    if not t in mystopwords:\n",
    "        stem = stemmer.stem(t)\n",
    "        if stem in stems:\n",
    "            stems[stem] += types[t]\n",
    "        else:\n",
    "            stems[stem] = types[t]\n",
    "for i in stems.most_common(20):\n",
    "    print i[0], i[1]"
   ]
  },
  {
   "cell_type": "markdown",
   "metadata": {
    "collapsed": true
   },
   "source": [
    "# Задание 1\n",
    "\n",
    "Найдите ключевые слова и словосочетания для произвольного текста с использованием грамматических шаблонов и хотя бы одной статистической меры связности. Прокомментируйте полученные результаты.\n",
    "\n",
    "# Задание 2 \n",
    "\n",
    "Напишите функцию concord(), которая принимает на вход:\n",
    "* несогласованное словосочетание\n",
    "* шаблон словосочетания\n",
    "и возвращает согласованное словосочетание.\n",
    "\n",
    "# Задание 3 \n",
    "\n",
    "Реализуйте TextRank и сравните результаты его применения с результами задания 1.\n"
   ]
  },
  {
   "cell_type": "markdown",
   "metadata": {},
   "source": [
    "# Литература\n",
    "\n",
    "* Manning & Shuetze: Ch. 5 – Collocations\n",
    "\n",
    "* NLTK Book: Collocations HOWTO http://www.nltk.org/howto/collocations.html\n",
    "\n",
    "* Е. В. Ягунова, Л. М. Пивоварова,  \"От конструкций к коллокациям\" – http://webground.su/data/lit/pivovarova_yagunova/Ot_kollokatsiy_k_konstruktsiyam.pdf\n"
   ]
  },
  {
   "cell_type": "code",
   "execution_count": null,
   "metadata": {
    "collapsed": true
   },
   "outputs": [],
   "source": []
  }
 ],
 "metadata": {
  "kernelspec": {
   "display_name": "Python 2 (SageMath)",
   "language": "python",
   "name": "python2"
  },
  "language_info": {
   "codemirror_mode": {
    "name": "ipython",
    "version": 2
   },
   "file_extension": ".py",
   "mimetype": "text/x-python",
   "name": "python",
   "nbconvert_exporter": "python",
   "pygments_lexer": "ipython2",
   "version": "2.7.10"
  },
  "name": "Russian_preprocessing_kp_extraction.ipynb"
 },
 "nbformat": 4,
 "nbformat_minor": 0
}
