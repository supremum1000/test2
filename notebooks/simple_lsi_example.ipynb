{
 "cells": [
  {
   "cell_type": "markdown",
   "metadata": {},
   "source": [
    "# Латентый семантический анализ\n",
    "\n",
    "Пусть дано 6 документов и 5 термов (корабль, лодка, океан, древесина, дерево). \n",
    "Рассмотрим небольшую матрицу терм-документ. "
   ]
  },
  {
   "cell_type": "code",
   "execution_count": 81,
   "metadata": {
    "collapsed": false
   },
   "outputs": [],
   "source": [
    "import numpy as np\n",
    "C = np.array([[ 1,  0,  1,  0,  0, 0],\n",
    "              [ 0,  1,  0,  0,  0, 0],\n",
    "              [ 1,  1,  0,  0,  0, 0],\n",
    "              [ 1,  0,  0,  1,  1, 0], \n",
    "              [ 0,  0,  0,  1,  0, 1]])\n"
   ]
  },
  {
   "cell_type": "markdown",
   "metadata": {},
   "source": [
    "Найдем сингулярное разложение матрицы $C = U \\Sigma V^T $ и проверим, что по произведению $ U \\Sigma V^T$ получается восстановить исходную матрицу. Заметим, что необходимости транспонировать $V$ нет – матрица возвращается уже транспонированная. "
   ]
  },
  {
   "cell_type": "code",
   "execution_count": 82,
   "metadata": {
    "collapsed": false
   },
   "outputs": [
    {
     "name": "stdout",
     "output_type": "stream",
     "text": [
      "4.41693455879e-16\n"
     ]
    }
   ],
   "source": [
    "U, s, V = np.linalg.svd(C, full_matrices=False)\n",
    "C_new = np.dot(np.dot(U, np.diag(s)), V)\n",
    "print np.std(C - C_new)"
   ]
  },
  {
   "cell_type": "markdown",
   "metadata": {},
   "source": [
    "Матрица $U$ имеет размерность $5 \\times 5$ – по количеству термов. Матрица $U$ ортонормальна: длина векторов-строк равна 1, все вектора-строки попарно ортогональны.\n",
    "\n",
    "Матрицу $U$ можно понимать так: строки – это термы, столбцы – это некие \"семантические\" размерности, отвечающие за определенные размерности. Числа показывают, насколько каждый терм $i$ принадлежит к каждой теме, представленной семантической размерностью $j$. \n",
    "\n"
   ]
  },
  {
   "cell_type": "code",
   "execution_count": 104,
   "metadata": {
    "collapsed": false
   },
   "outputs": [
    {
     "name": "stdout",
     "output_type": "stream",
     "text": [
      "[[ 0.44 -0.3  -0.57  0.58 -0.25]\n",
      " [ 0.13 -0.33  0.59 -0.   -0.73]\n",
      " [ 0.48 -0.51  0.37 -0.    0.61]\n",
      " [ 0.7   0.35 -0.15 -0.58 -0.16]\n",
      " [ 0.26  0.65  0.41  0.58  0.09]]\n"
     ]
    }
   ],
   "source": [
    "print np.around(U, decimals = 2)"
   ]
  },
  {
   "cell_type": "markdown",
   "metadata": {},
   "source": [
    "Матрица $V$ имеет размерность $5 \\times 6$ – 5 термов, 6 документов. Так же как и $U$, $V$ ортонормальна: длина векторов-столбцов равна 1, все вектора-столбцы попарно ортогональны.\n",
    "\n",
    "Матрица $V$ показывает, насколько в документ $j$ выражена тема $i$."
   ]
  },
  {
   "cell_type": "code",
   "execution_count": 105,
   "metadata": {
    "collapsed": false
   },
   "outputs": [
    {
     "name": "stdout",
     "output_type": "stream",
     "text": [
      "[[ 0.75  0.28  0.2   0.45  0.33  0.12]\n",
      " [-0.29 -0.53 -0.19  0.63  0.22  0.41]\n",
      " [-0.28  0.75 -0.45  0.2  -0.12  0.33]\n",
      " [-0.   -0.    0.58  0.   -0.58  0.58]\n",
      " [ 0.53 -0.29 -0.63 -0.19 -0.41  0.22]]\n"
     ]
    }
   ],
   "source": [
    "print np.around(V, decimals = 2)"
   ]
  },
  {
   "cell_type": "markdown",
   "metadata": {},
   "source": [
    "Матрица $\\Sigma$ – это диагональная матрица $5 \\times 5$, в которой представлены сингулярные числа. Величина сингулярного числа демонстрирует значимость соответствующей семантической разменрности. С помощью обнуления небольших сингулярных значений можно избавиться от незначимых семантических размерностей.\n"
   ]
  },
  {
   "cell_type": "code",
   "execution_count": 107,
   "metadata": {
    "collapsed": false
   },
   "outputs": [
    {
     "name": "stdout",
     "output_type": "stream",
     "text": [
      "[[ 2.16  0.    0.    0.    0.  ]\n",
      " [ 0.    1.59  0.    0.    0.  ]\n",
      " [ 0.    0.    1.28  0.    0.  ]\n",
      " [ 0.    0.    0.    1.    0.  ]\n",
      " [ 0.    0.    0.    0.    0.39]]\n"
     ]
    }
   ],
   "source": [
    "print np.around(np.diag(s), decimals = 2)"
   ]
  },
  {
   "cell_type": "markdown",
   "metadata": {},
   "source": [
    "Обнуляем 3-5 сингулярное значение."
   ]
  },
  {
   "cell_type": "code",
   "execution_count": 120,
   "metadata": {
    "collapsed": false
   },
   "outputs": [
    {
     "name": "stdout",
     "output_type": "stream",
     "text": [
      "[[ 2.16  0.  ]\n",
      " [ 0.    1.59]]\n"
     ]
    }
   ],
   "source": [
    "s_2 = np.diag(np.array(s[:2]))\n",
    "print np.around(s_2, decimals = 2)"
   ]
  },
  {
   "cell_type": "markdown",
   "metadata": {},
   "source": [
    "Оставляем два столбца в $U$."
   ]
  },
  {
   "cell_type": "code",
   "execution_count": 118,
   "metadata": {
    "collapsed": false
   },
   "outputs": [
    {
     "name": "stdout",
     "output_type": "stream",
     "text": [
      "[[ 0.44 -0.3 ]\n",
      " [ 0.13 -0.33]\n",
      " [ 0.48 -0.51]\n",
      " [ 0.7   0.35]\n",
      " [ 0.26  0.65]]\n"
     ]
    }
   ],
   "source": [
    "U_2 = U[:,:2]\n",
    "print np.around(U_2, decimals = 2)"
   ]
  },
  {
   "cell_type": "markdown",
   "metadata": {},
   "source": [
    "Оставляем две строки в $U$."
   ]
  },
  {
   "cell_type": "code",
   "execution_count": 115,
   "metadata": {
    "collapsed": false
   },
   "outputs": [
    {
     "name": "stdout",
     "output_type": "stream",
     "text": [
      "[[ 0.75  0.28  0.2   0.45  0.33  0.12]\n",
      " [-0.29 -0.53 -0.19  0.63  0.22  0.41]]\n"
     ]
    }
   ],
   "source": [
    "V_2 = V[:2,:]\n",
    "print np.around(V_2, decimals = 2)"
   ]
  },
  {
   "cell_type": "markdown",
   "metadata": {},
   "source": [
    "Находим приближение ранга 2 к исходной матрице ."
   ]
  },
  {
   "cell_type": "code",
   "execution_count": 127,
   "metadata": {
    "collapsed": false
   },
   "outputs": [
    {
     "name": "stdout",
     "output_type": "stream",
     "text": [
      "[[ 0.85  0.52  0.28  0.13  0.21 -0.08]\n",
      " [ 0.36  0.36  0.16 -0.21 -0.03 -0.18]\n",
      " [ 1.    0.72  0.36 -0.05  0.16 -0.21]\n",
      " [ 0.98  0.13  0.21  1.03  0.62  0.41]\n",
      " [ 0.13 -0.39 -0.08  0.9   0.41  0.49]]\n"
     ]
    }
   ],
   "source": [
    "C_2 = np.dot(np.dot(U_2, s_2), V_2)\n",
    "print np.around(C_2, decimals = 2)"
   ]
  },
  {
   "cell_type": "markdown",
   "metadata": {},
   "source": [
    "Проверим ранг."
   ]
  },
  {
   "cell_type": "code",
   "execution_count": 126,
   "metadata": {
    "collapsed": false
   },
   "outputs": [
    {
     "name": "stdout",
     "output_type": "stream",
     "text": [
      "2\n"
     ]
    }
   ],
   "source": [
    "print np.rank(C_2)"
   ]
  },
  {
   "cell_type": "markdown",
   "metadata": {},
   "source": [
    "Снижение размерности – это хорошо, потому что документы, содержащие синонимы становятся похожими:"
   ]
  },
  {
   "cell_type": "code",
   "execution_count": 149,
   "metadata": {
    "collapsed": false
   },
   "outputs": [],
   "source": [
    "sim1 = sum(C[:,1]*C[:,2])\n",
    "sim2 = sum(C_2[:,1]*C_2[:,2])\n",
    "print sim1\n",
    "print sim2"
   ]
  },
  {
   "cell_type": "code",
   "execution_count": 145,
   "metadata": {
    "collapsed": false
   },
   "outputs": [
    {
     "data": {
      "text/plain": [
       "0.5176"
      ]
     },
     "execution_count": 145,
     "metadata": {},
     "output_type": "execute_result"
    }
   ],
   "source": [
    "0.52*0.28 + 0.36 * 0.16 + 0.72 * 0.36 + 0.12 * 0.20 + -0.39 * -0.08 "
   ]
  },
  {
   "cell_type": "code",
   "execution_count": 132,
   "metadata": {
    "collapsed": false
   },
   "outputs": [
    {
     "data": {
      "image/png": "[encoded data removed]",
      "text/plain": [
       "<matplotlib.figure.Figure at 0x105f725d0>"
      ]
     },
     "metadata": {},
     "output_type": "display_data"
    }
   ],
   "source": [
    "%matplotlib inline\n",
    "import matplotlib.pyplot as plt\n",
    "plt.plot(V_2[0,:], V_2[1,:], 'ro')\n",
    "labels = ['d'+str(i) for i in range(1,7)]\n",
    "for label, x, y in zip(labels, V_2[0,:], V_2[1,:]):\n",
    "    plt.annotate(label, xy = (x, y))\n",
    "\n",
    "plt.show()"
   ]
  }
 ],
 "metadata": {
  "kernelspec": {
   "display_name": "Python 2 (SageMath)",
   "language": "python",
   "name": "python2"
  },
  "language_info": {
   "codemirror_mode": {
    "name": "ipython",
    "version": 2
   },
   "file_extension": ".py",
   "mimetype": "text/x-python",
   "name": "python",
   "nbconvert_exporter": "python",
   "pygments_lexer": "ipython2",
   "version": "2.7.10"
  },
  "name": "simple_lsi_example.ipynb"
 },
 "nbformat": 4,
 "nbformat_minor": 0
}
